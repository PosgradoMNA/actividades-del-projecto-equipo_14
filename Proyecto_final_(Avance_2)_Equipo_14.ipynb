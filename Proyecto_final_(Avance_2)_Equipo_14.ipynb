{
  "nbformat": 4,
  "nbformat_minor": 0,
  "metadata": {
    "colab": {
      "provenance": [],
      "collapsed_sections": [],
      "include_colab_link": true
    },
    "kernelspec": {
      "name": "python3",
      "display_name": "Python 3"
    },
    "language_info": {
      "name": "python"
    }
  },
  "cells": [
    {
      "cell_type": "markdown",
      "metadata": {
        "id": "view-in-github",
        "colab_type": "text"
      },
      "source": [
        "<a href=\"https://colab.research.google.com/github/PosgradoMNA/actividades-del-projecto-equipo_14/blob/main/Proyecto_final_(Avance_2)_Equipo_14.ipynb\" target=\"_parent\"><img src=\"https://colab.research.google.com/assets/colab-badge.svg\" alt=\"Open In Colab\"/></a>"
      ]
    },
    {
      "cell_type": "markdown",
      "source": [
        "**Equipo 14**\n",
        "\n",
        "Francisco Javier Morales Jimenez - A01794339\n",
        "\n",
        "Alejandro García Hernández - A01793812 "
      ],
      "metadata": {
        "id": "Zv1nN6m9D3tG"
      }
    },
    {
      "cell_type": "markdown",
      "source": [
        "#**Metodología CRISP-DM**\n",
        "\n",
        "CRISP-DM: es una de las metodologías más utilizadas para realizar proyectos de manera ordenada. Esta metodología proporciona una descripción normalizada del ciclo de vida de un proyecto estándar de análisis de datos. Las 6 etapas de esta metodología son: \n",
        "\n",
        "* **Entendimiento del negocio.**  Es la fase inicial del proyecto, se refiere a comprender los objetivos y requisitos del proyecto desde la perspectiva del \n",
        "negocio, y con este conocimiento se define un problema de minería de datos y se genera un plan preliminar diseñado para alcanzar los objetivos.\n",
        "* **Entendimiento de los datos.** Se realiza la recopilación de los datos, así como su exploración, familiarización, identificación de problemas de calidad, análisis estadístico superficial con el objetivo de encontrar algunos resultados preliminares para formar hipótesis sobre la información oculta en los datos.\n",
        "* **Preparación de los datos.** Generalmente, esta es la etapa que consumirá el mayor tiempo del proyecto, se refiere a todos los procesos necesarios \n",
        "para contar con un conjunto de datos de calidad y en el formato adecuado para alimentar el modelo. Algunas tareas comunes son las selección de tablas, registros y atributos, limpieza y transformación de datos.\n",
        "* **Modelado.** En este paso se seleccionan y prueban distintas técnicas de modelado hasta encontrar el modelo óptimo, y como cada técnica puede requerir los datos en una forma en particular, es posible tener que regresar al paso anterior para hacer las modificaciones pertinentes. \n",
        "* **Evaluación.** Una vez que se seleccionó y aplicó un modelo para resolver el problema definido en la etapa 1, hay que evaluar a profundidad el resultado obtenido para asegurarnos que cumple con los requisitos y/o restricciones del negocio. En caso de que el resultado de esta evaluación no sea el esperado, se deberá regresar a alguna de las etapas anteriores.\n",
        "* **Implementación.** Cuando el modelo es aceptado se procede a su  implementación, esta puede ir desde generar un reporte, hasta desarrollar una API para la ejecución continua del modelo, por lo que esta etapa puede ser desarrollada por científicos de datos o por un equipo de TI. Esta fase también define el monitoreo y mantenimiento del modelo.\n",
        "\n",
        "En el siguiente [diagrama](https://miro.com/app/board/uXjVPTzSpmg=/) se muestran una representación gráfica de esta metodología y se observa con mayor claridad que su implementación puede ser un proceso iterativo. \n",
        "\n",
        "\n",
        "\n",
        "\n",
        "\n",
        "\n"
      ],
      "metadata": {
        "id": "gGJ_ERD9EJEe"
      }
    }
  ]
}