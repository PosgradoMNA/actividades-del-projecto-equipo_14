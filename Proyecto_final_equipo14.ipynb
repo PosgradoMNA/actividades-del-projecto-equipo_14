{
  "nbformat": 4,
  "nbformat_minor": 0,
  "metadata": {
    "colab": {
      "provenance": [],
      "authorship_tag": "ABX9TyMtEP/lnjR6NTtHCsfjxxhW",
      "include_colab_link": true
    },
    "kernelspec": {
      "name": "python3",
      "display_name": "Python 3"
    },
    "language_info": {
      "name": "python"
    }
  },
  "cells": [
    {
      "cell_type": "markdown",
      "metadata": {
        "id": "view-in-github",
        "colab_type": "text"
      },
      "source": [
        "<a href=\"https://colab.research.google.com/github/PosgradoMNA/actividades-del-projecto-equipo_14/blob/main/Proyecto_final_equipo14.ipynb\" target=\"_parent\"><img src=\"https://colab.research.google.com/assets/colab-badge.svg\" alt=\"Open In Colab\"/></a>"
      ]
    },
    {
      "cell_type": "markdown",
      "source": [
        "**Actividad :** Proyecto Final - Equipo 14\n",
        "\n",
        "INTEGRANTES : FRANCISCO JAVIER MORALES JIMENEZ\n",
        "              ALEJANDRO GARCIA HERNANDEZ\n",
        "\n",
        "**Dataset :** Generación de demanda de energía por hora y clima\n",
        "Organización que lo generó : TSO - Red Electrica de España\n",
        "\n",
        "**Ubicación :** https://www.kaggle.com/datasets/nicholasjhana/energy-consumption-generation-prices-and-weather#:~:text=file_download-,Download%20(4%20MB),-more_vert\n",
        "\n",
        "\n",
        "\n"
      ],
      "metadata": {
        "id": "TfS3c2hq358i"
      }
    },
    {
      "cell_type": "markdown",
      "source": [
        "**CONTENIDO:**\n",
        "\n",
        "Este conjunto de datos contiene 4 años de consumo eléctrico, generación, precios y datos meteorológicos para España. Los datos de consumo y generación se recuperaron de un portal público para datos de operadores de servicios de transmisión (TSO). Los precios de liquidación se obtuvieron del TSO español Red Electric España. Los datos meteorológicos son de  Open Weather API para las 5 ciudades más grandes de España."
      ],
      "metadata": {
        "id": "YIi-6jcIC2Mx"
      }
    },
    {
      "cell_type": "markdown",
      "source": [
        "Preguntas que responde:\n",
        "¿Qué mediciones climáticas y ciudades influyen más en la demanda eléctrica, los precios, la capacidad de generación?\n",
        "  \n",
        "¿Podemos pronosticar con 24 horas de anticipación mejor que la empresa electrica?\n",
        "\n",
        "¿Podemos predecir el precio de la electricidad por hora del día mejor que la empresa eléctrica?\n",
        "\n",
        "¿Cual es la curva de abastecimiento requerido?\n",
        "\n",
        "¿Que consumo de energia se requerira en x numero de años?\n",
        "\n",
        "¿Que costo tendrá esa energía?\n",
        "\n",
        "¿Que precio diario podría tener el servicio?\n",
        "\n",
        "¿Cuál es la fuente de próxima generación que se activará en la curva de carga?"
      ],
      "metadata": {
        "id": "gjFQokQ9FQpW"
      }
    },
    {
      "cell_type": "markdown",
      "source": [
        "**¿Qué actor (empresa, sector de la sociedad, organismo descentralizado, gobierno, etc.) estaría interesado en las preguntas mencionadas que identificó?**\n",
        "\n",
        "Empresas del sector de energía renovable"
      ],
      "metadata": {
        "id": "LfMUFi7fG_jp"
      }
    }
  ]
}