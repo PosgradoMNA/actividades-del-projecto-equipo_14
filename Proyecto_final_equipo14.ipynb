{
  "nbformat": 4,
  "nbformat_minor": 0,
  "metadata": {
    "colab": {
      "provenance": [],
      "authorship_tag": "ABX9TyOyf0HNMd8vWxleM0lXavln",
      "include_colab_link": true
    },
    "kernelspec": {
      "name": "python3",
      "display_name": "Python 3"
    },
    "language_info": {
      "name": "python"
    }
  },
  "cells": [
    {
      "cell_type": "markdown",
      "metadata": {
        "id": "view-in-github",
        "colab_type": "text"
      },
      "source": [
        "<a href=\"https://colab.research.google.com/github/PosgradoMNA/actividades-del-projecto-equipo_14/blob/main/Proyecto_final_equipo14.ipynb\" target=\"_parent\"><img src=\"https://colab.research.google.com/assets/colab-badge.svg\" alt=\"Open In Colab\"/></a>"
      ]
    },
    {
      "cell_type": "markdown",
      "source": [
        "Actividad : Proyecto Final - Equipo 14\n",
        "\n",
        "Dataset : Generación de demanda de energía por hora y clima\n",
        "Organización que lo generó : TSO - Red Electrica de España\n",
        "\n",
        "Ubicación : https://www.kaggle.com/datasets/nicholasjhana/energy-consumption-generation-prices-and-weather#:~:text=file_download-,Download%20(4%20MB),-more_vert\n",
        "\n",
        "\n",
        "\n"
      ],
      "metadata": {
        "id": "TfS3c2hq358i"
      }
    },
    {
      "cell_type": "markdown",
      "source": [
        "Describe el conjunto de datos. ¿Qué datos contiene?\n",
        "¿Cuáles son algunas de las preguntas de investigación que podría responder con estos datos? Enumere al menos OCHO (no responda las preguntas).\n",
        "¿Qué actor (empresa, sector de la sociedad, organismo descentralizado, gobierno, etc.) estaría interesado en las preguntas mencionadas que identificó?"
      ],
      "metadata": {
        "id": "SL85Je9c_OL9"
      }
    }
  ]
}