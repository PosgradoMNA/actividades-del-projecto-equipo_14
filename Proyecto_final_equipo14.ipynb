{
  "nbformat": 4,
  "nbformat_minor": 0,
  "metadata": {
    "colab": {
      "provenance": [],
      "authorship_tag": "ABX9TyPjf3p/gP9Ep5CycUnKfP87",
      "include_colab_link": true
    },
    "kernelspec": {
      "name": "python3",
      "display_name": "Python 3"
    },
    "language_info": {
      "name": "python"
    }
  },
  "cells": [
    {
      "cell_type": "markdown",
      "metadata": {
        "id": "view-in-github",
        "colab_type": "text"
      },
      "source": [
        "<a href=\"https://colab.research.google.com/github/PosgradoMNA/actividades-del-projecto-equipo_14/blob/main/Proyecto_final_equipo14.ipynb\" target=\"_parent\"><img src=\"https://colab.research.google.com/assets/colab-badge.svg\" alt=\"Open In Colab\"/></a>"
      ]
    },
    {
      "cell_type": "markdown",
      "source": [
        "Actividad : Proyecto Final - Equipo 14\n",
        "\n",
        "Dataset : Generación de demanda de energía por hora y clima\n",
        "Organización que lo generó : TSO - Red Electrica de España\n",
        "\n",
        "Ubicación : https://www.kaggle.com/datasets/nicholasjhana/energy-consumption-generation-prices-and-weather#:~:text=file_download-,Download%20(4%20MB),-more_vert\n",
        "\n",
        "\n",
        "\n"
      ],
      "metadata": {
        "id": "TfS3c2hq358i"
      }
    },
    {
      "cell_type": "markdown",
      "source": [
        "CONTENIDO:\n",
        "\n",
        "Este conjunto de datos contiene 4 años de consumo eléctrico, generación, precios y datos meteorológicos para España. Los datos de consumo y generación se recuperaron de un portal público para datos de operadores de servicios de transmisión (TSO). Los precios de liquidación se obtuvieron del TSO español Red Electric España. Los datos meteorológicos son de  Open Weather API para las 5 ciudades más grandes de España."
      ],
      "metadata": {
        "id": "YIi-6jcIC2Mx"
      }
    },
    {
      "cell_type": "markdown",
      "source": [
        "Describe el conjunto de datos. ¿Qué datos contiene?\n",
        "¿Cuáles son algunas de las preguntas de investigación que podría responder con estos datos? Enumere al menos OCHO (no responda las preguntas).\n",
        "¿Qué actor (empresa, sector de la sociedad, organismo descentralizado, gobierno, etc.) estaría interesado en las preguntas mencionadas que identificó?"
      ],
      "metadata": {
        "id": "SL85Je9c_OL9"
      }
    }
  ]
}